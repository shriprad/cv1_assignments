{
 "cells": [
  {
   "cell_type": "markdown",
   "metadata": {},
   "source": [
    "# <font style = \"color:rgb(50,120,229)\">Spacer Size Detection and Inspection of PCB</font>\n"
   ]
  },
  {
   "cell_type": "markdown",
   "metadata": {},
   "source": [
    "A printed circuit board (PCB) is a board which connects electrical components using conductive tracks and pads which is etched on one or more layers of copper board. These are used in almost all computers and electronics today. Most things that use electricity have at least one circuit board inside of them that makes them run. The assembly of PCB is correlated to the quality of PCB design as well as its manufacturing. The most common circuit boards are made in large numbers for a specific job, for example to run a computer, a cell phone or a television. Some circuit boards are made plain so a person can build their own for a new electrical task. Since every PCB designer has his own way of manafacturing, the boards can have many different parts which are connected and work together. But not all manafacturers have equal facility of manafacturing boards. These issues faced in manafacturing can be solved using Computer Vision to ensure the better quality in manafacturing without any human intervention."
   ]
  },
  {
   "cell_type": "markdown",
   "metadata": {},
   "source": [
    "# <font style = \"color:rgb(50,120,229)\">Problem</font>\n",
    "\n",
    "The spacer hole is a component of the PCB dimensioned with 0.15 centimetres radius.At the time of manufacturing, due to quality issues, there is a chance of occurance of errors in the spacer holes. The errors could be a smaller or larger size of spacer holes than the prescribed dimension. The task here is to inspect the spacer holes for errors, through this, the errors can be eliminated and this leads to maintaining the quality of the product manufactured.\n"
   ]
  },
  {
   "cell_type": "markdown",
   "metadata": {},
   "source": [
    "# <font style = \"color:rgb(50,120,229)\">Aim</font>\n"
   ]
  },
  {
   "cell_type": "markdown",
   "metadata": {},
   "source": [
    "To detect the dimension of spacer holes only, from the image 1.1 and print the each spacer holes dimension .\n",
    "\n",
    "It's time for you to put your skills to test. In this assignment, you will be building a Spacer Holes Size Detector using OpenCV's functions. Since we have not discussed calculating dimensions before, we will be providing you with some hints including which OpenCV function you can use.\n",
    "\n",
    "**Expected Output :** \n",
    "\n",
    "**1) Image 1.2**   \n",
    "  \n",
    "  **2)Print the dimension of each spacer hole detected ,the dimension should lie between 0.13cm to 0.15cm** \n",
    "  \n",
    "**Note: The holes marked with green color in image 1.2 are the spacer holes**"
   ]
  },
  {
   "cell_type": "markdown",
   "metadata": {},
   "source": [
    "|<img src=\"https://www.dropbox.com/s/7dxgu9qwf90td2p/pcb_result_assign_notebook_uploaded.png?dl=1\" alt=\"Input Image\" width=\"600\" height=\"600\"/> | \n",
    "| --- |\n",
    "| <center> Fig 1.1 Left: An image of PCB which is manafactured.   Fig 1.2 Right: The same image with contours drawn of spacer holes whose dimension is to be inspected.</center> |"
   ]
  },
  {
   "cell_type": "markdown",
   "metadata": {},
   "source": [
    "# <font style = \"color:rgb(50,120,229)\">Steps Involved </font>\n",
    "\n",
    "1) **Read Image**\n",
    "\n",
    "2) **Convert RGB to Gray**\n",
    "\n",
    "3) **Image Smoothing +Edge +(Erosion+Dilation if required)**\n",
    "\n",
    "4) **Perform Thresholding** \n",
    "\n",
    "5) **Detect Contours**\n",
    "\n",
    "6) **Draw Contours only on spacer holes**\n",
    "\n",
    "7) **Calculate the area of contour and radius**\n",
    "\n",
    "8) **Use scaling factor to convert obtained pixels to cm**\n",
    "\n",
    "\n",
    "Note: Scaling factor is calculated by DPI(dots per inch) value of image. The given image has 150 DPI means 150 dots per inch.  \n",
    "\n",
    "Calculation: 1 inch = 2.54cm\n",
    "\n",
    "             dpi = 150px/in\n",
    "             150px/2.54cm\n",
    "             1px = 2.54cm/150\n",
    "             1px = 0.0169cm\n",
    "             scaling = 0.0169cm\n",
    "             \n",
    "So,dimension value we get using cv functions multiply it with scaling factor to obtain value from pixels to cm.\n",
    "             \n",
    "      \n",
    "       \n",
    "\n",
    "\n",
    "\n",
    "\n",
    "\n",
    "\n",
    " \n",
    "\n"
   ]
  },
  {
   "cell_type": "markdown",
   "metadata": {},
   "source": [
    "# <font style = \"color:rgb(50,120,229)\">Step 1:Read Image </font>\n"
   ]
  },
  {
   "cell_type": "code",
   "execution_count": null,
   "metadata": {},
   "outputs": [],
   "source": [
    "import numpy as np\n",
    "import math\n",
    "import cv2"
   ]
  },
  {
   "cell_type": "code",
   "execution_count": null,
   "metadata": {},
   "outputs": [],
   "source": [
    "# Image path\n",
    "\n",
    "imagePath = DATA_PATH + \"images/pcb.png\"\n",
    "# Read image\n",
    "# Store it in the variable image\n",
    "\n",
    "# Display the thresholded image\n",
    "###\n",
    "### YOUR CODE HERE\n",
    "###\n",
    "\n"
   ]
  },
  {
   "cell_type": "markdown",
   "metadata": {},
   "source": [
    "# <font style = \"color:rgb(50,120,229)\">Step 2:Converting Image to Gray Scale </font>\n"
   ]
  },
  {
   "cell_type": "code",
   "execution_count": null,
   "metadata": {},
   "outputs": [],
   "source": [
    "# Convert image to grayscale\n",
    "# Store it in the variable imgray\n",
    "###\n",
    "### YOUR CODE HERE\n",
    "###"
   ]
  },
  {
   "cell_type": "code",
   "execution_count": null,
   "metadata": {},
   "outputs": [],
   "source": [
    "# Display the image\n",
    "###\n",
    "### YOUR CODE HERE\n",
    "###\n"
   ]
  },
  {
   "cell_type": "markdown",
   "metadata": {},
   "source": [
    "# <font style = \"color:rgb(50,120,229)\">Step 3:Image Smoothing and Edge Detection </font>\n",
    "\n",
    "Note :Carry out this step by applying different image smoothing filters to see which one suits,Test if performing erosion and dilation on this image is required.\n"
   ]
  },
  {
   "cell_type": "code",
   "execution_count": null,
   "metadata": {},
   "outputs": [],
   "source": [
    "###\n",
    "### YOUR CODE HERE\n",
    "###\n"
   ]
  },
  {
   "cell_type": "code",
   "execution_count": null,
   "metadata": {},
   "outputs": [],
   "source": [
    "# Display the image\n",
    "###\n",
    "### YOUR CODE HERE\n",
    "###"
   ]
  },
  {
   "cell_type": "markdown",
   "metadata": {},
   "source": [
    "# <font style = \"color:rgb(50,120,229)\">Step 4:Perform Thresholding </font>\n"
   ]
  },
  {
   "cell_type": "code",
   "execution_count": null,
   "metadata": {},
   "outputs": [],
   "source": [
    "###\n",
    "### YOUR CODE HERE\n",
    "###"
   ]
  },
  {
   "cell_type": "code",
   "execution_count": null,
   "metadata": {},
   "outputs": [],
   "source": [
    "# Display the image\n",
    "###\n",
    "### YOUR CODE HERE\n",
    "###"
   ]
  },
  {
   "cell_type": "markdown",
   "metadata": {},
   "source": [
    "# <font style = \"color:rgb(50,120,229)\">Step 5:Detect Possible Contours </font>\n",
    "\n"
   ]
  },
  {
   "cell_type": "code",
   "execution_count": null,
   "metadata": {},
   "outputs": [],
   "source": [
    "###\n",
    "### YOUR CODE HERE\n",
    "###"
   ]
  },
  {
   "cell_type": "markdown",
   "metadata": {},
   "source": [
    "# <font style = \"color:rgb(50,120,229)\">Step 6:Draw Contours </font>\n",
    "\n",
    "Note: Draw contours only on point of interest which are spacer holes using the following contour id(11,12,13,23,123,128,136).This will help you in identifing spacer holes easily.\n"
   ]
  },
  {
   "cell_type": "code",
   "execution_count": null,
   "metadata": {},
   "outputs": [],
   "source": [
    "###\n",
    "### YOUR CODE HERE\n",
    "###"
   ]
  },
  {
   "cell_type": "code",
   "execution_count": null,
   "metadata": {},
   "outputs": [],
   "source": [
    "# Display the image\n",
    "###\n",
    "### YOUR CODE HERE\n",
    "###"
   ]
  },
  {
   "cell_type": "markdown",
   "metadata": {},
   "source": [
    "# <font style = \"color:rgb(50,120,229)\">Step 7: Calculate dimension of spacer holes.  </font>\n",
    "\n",
    "Note: 1) Calculate area of each contour using contourArea function.\n",
    "\n",
    "     2)Calculate radius of each contour.Here output is in pixels.\n",
    "      \n",
    "     3)Convert the pixels into cm by multplying radius_in_pixels with scaling_factor and print the individual\n",
    "       dimensions of spacer holes. The dimensions obtained should be between 0.13cm to 0.15cm.\n",
    "       \n",
    " \n",
    "      \n",
    "     \n",
    "                                                                   \n",
    "      \n",
    "       \n"
   ]
  },
  {
   "cell_type": "code",
   "execution_count": null,
   "metadata": {},
   "outputs": [],
   "source": [
    "###Refer Week 3.\n",
    "###\n",
    "### YOUR CODE HERE\n",
    "###"
   ]
  },
  {
   "cell_type": "code",
   "execution_count": null,
   "metadata": {},
   "outputs": [],
   "source": [
    "###Print individual dimensions of spacer holes with refernce their id.\n",
    "###\n",
    "### YOUR CODE HERE\n",
    "###"
   ]
  }
 ],
 "metadata": {
  "kernelspec": {
   "display_name": "Python 3",
   "language": "python",
   "name": "python3"
  },
  "language_info": {
   "codemirror_mode": {
    "name": "ipython",
    "version": 3
   },
   "file_extension": ".py",
   "mimetype": "text/x-python",
   "name": "python",
   "nbconvert_exporter": "python",
   "pygments_lexer": "ipython3",
   "version": "3.5.2"
  }
 },
 "nbformat": 4,
 "nbformat_minor": 2
}
